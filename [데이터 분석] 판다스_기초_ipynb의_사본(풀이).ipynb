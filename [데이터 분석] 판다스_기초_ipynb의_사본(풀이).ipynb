{
  "nbformat": 4,
  "nbformat_minor": 0,
  "metadata": {
    "colab": {
      "provenance": [],
      "include_colab_link": true
    },
    "kernelspec": {
      "name": "python3",
      "display_name": "Python 3"
    },
    "language_info": {
      "name": "python"
    }
  },
  "cells": [
    {
      "cell_type": "markdown",
      "metadata": {
        "id": "view-in-github",
        "colab_type": "text"
      },
      "source": [
        "<a href=\"https://colab.research.google.com/github/mercurios0603/DJ-IT-FinalTest/blob/main/%ED%8C%90%EB%8B%A4%EC%8A%A4_%EA%B8%B0%EC%B4%88_ipynb%EC%9D%98_%EC%82%AC%EB%B3%B8(%ED%92%80%EC%9D%B4).ipynb\" target=\"_parent\"><img src=\"https://colab.research.google.com/assets/colab-badge.svg\" alt=\"Open In Colab\"/></a>"
      ]
    },
    {
      "cell_type": "code",
      "execution_count": 3,
      "metadata": {
        "id": "JzvSTkxzCNn5"
      },
      "outputs": [],
      "source": [
        "import pandas as pd\n",
        "stu = pd.read_excel('/content/students.xlsx')"
      ]
    },
    {
      "cell_type": "code",
      "source": [
        "print(stu)"
      ],
      "metadata": {
        "colab": {
          "base_uri": "https://localhost:8080/"
        },
        "id": "Eck24HwjV0zA",
        "outputId": "f4cb2f52-ffe8-42ac-cd37-876e6b9136e1"
      },
      "execution_count": 4,
      "outputs": [
        {
          "output_type": "stream",
          "name": "stdout",
          "text": [
            "     번호   이름  국어  영어  수학 지역명       생년월일\n",
            "0     1  이현진  68  77  81  대전 2050-08-17\n",
            "1     2  장민동  84  97  88  광주 2050-08-02\n",
            "2     3  강준은  63  85  64  울산 2050-10-22\n",
            "3     4  강혜희  99  95  79  서울 2050-05-27\n",
            "4     5  김혜수  83  76  67  대전 2050-01-25\n",
            "..  ...  ...  ..  ..  ..  ..        ...\n",
            "95   96  이민운  99  63  65  서울 2050-08-18\n",
            "96   97  장혜운  90  86  62  대전 2050-10-08\n",
            "97   98  박철동  90  96  60  대전 2050-03-01\n",
            "98   99  강준동  62  69  69  광주 2050-11-24\n",
            "99  100  이현운  84  91  73  서울 2050-07-20\n",
            "\n",
            "[100 rows x 7 columns]\n"
          ]
        }
      ]
    },
    {
      "cell_type": "code",
      "source": [
        "# 아래 문제를 해결해주세요.\n",
        "\n",
        "\n",
        "# 1. 국어가 80점 이상인 학생의 이름과 생년월일\n",
        "filtered_stu = stu[stu['국어'] >= 80]\n",
        "result = filtered_stu[['이름', '생년월일']]\n",
        "print(result)"
      ],
      "metadata": {
        "colab": {
          "base_uri": "https://localhost:8080/"
        },
        "id": "AXUowaDhWL4R",
        "outputId": "fa8f9f0d-9e85-40eb-8b3d-91382a0f1fe3"
      },
      "execution_count": 10,
      "outputs": [
        {
          "output_type": "stream",
          "name": "stdout",
          "text": [
            "     이름       생년월일  국어\n",
            "1   장민동 2050-08-02  84\n",
            "3   강혜희 2050-05-27  99\n",
            "4   김혜수 2050-01-25  83\n",
            "7   정민은 2050-02-06  90\n",
            "8   이지희 2050-06-23  94\n",
            "10  이민은 2050-09-07  94\n",
            "12  장민진 2050-08-12  94\n",
            "13  강혜은 2050-03-26  84\n",
            "15  이명동 2050-03-21  96\n",
            "18  이명희 2050-04-18  89\n",
            "19  윤민연 2050-11-24  82\n",
            "21  정민진 2050-02-20  87\n",
            "23  이혜운 2050-06-24  91\n",
            "27  박준운 2050-10-02  96\n",
            "29  박혜희 2050-07-02  87\n",
            "37  윤지연 2050-10-10  90\n",
            "39  장지연 2050-10-16  94\n",
            "40  김명은 2050-05-09  87\n",
            "41  정준수 2050-08-23  90\n",
            "42  정철희 2050-03-13  99\n",
            "43  윤민은 2050-01-11  98\n",
            "46  정혜은 2050-06-18  94\n",
            "51  이철진 2050-10-02  90\n",
            "54  윤준동 2050-11-21  87\n",
            "55  강혜수 2050-08-24  87\n",
            "64  김혜진 2050-07-05  80\n",
            "67  이혜운 2050-10-05  83\n",
            "69  이명연 2050-05-17  96\n",
            "72  장지희 2050-03-04  98\n",
            "73  정철연 2050-04-22  82\n",
            "74  이철진 2050-07-01  90\n",
            "75  박철은 2050-10-25  94\n",
            "76  장지수 2050-05-10  80\n",
            "77  김명운 2050-09-22  91\n",
            "79  김준수 2050-02-08  93\n",
            "80  이지동 2050-02-07  98\n",
            "81  정준동 2050-04-07  82\n",
            "83  장혜은 2050-07-12  94\n",
            "87  정혜희 2050-09-20  95\n",
            "88  박명희 2050-07-02  83\n",
            "90  정철동 2050-01-03  81\n",
            "91  정철동 2050-05-24  85\n",
            "93  이현진 2050-08-04  97\n",
            "94  정현연 2050-05-19  98\n",
            "95  이민운 2050-08-18  99\n",
            "96  장혜운 2050-10-08  90\n",
            "97  박철동 2050-03-01  90\n",
            "99  이현운 2050-07-20  84\n"
          ]
        }
      ]
    },
    {
      "cell_type": "code",
      "source": [
        "# 2. 수학이 80점 미만인 학생의 영어와 국어 점수\n",
        "\n",
        "filtered_stu2 = stu[stu['수학'] < 80]\n",
        "result2 = filtered_stu2[['영어', '국어']]\n",
        "print(result2)"
      ],
      "metadata": {
        "colab": {
          "base_uri": "https://localhost:8080/"
        },
        "id": "5jYoyBrTWLxR",
        "outputId": "68a662f2-8737-4b50-c6c1-8926f45deb80"
      },
      "execution_count": 11,
      "outputs": [
        {
          "output_type": "stream",
          "name": "stdout",
          "text": [
            "    영어  국어\n",
            "2   85  63\n",
            "3   95  99\n",
            "4   76  83\n",
            "7   78  90\n",
            "8   63  94\n",
            "12  70  94\n",
            "16  90  76\n",
            "18  78  89\n",
            "19  89  82\n",
            "20  88  62\n",
            "21  60  87\n",
            "23  88  91\n",
            "24  62  61\n",
            "25  76  73\n",
            "27  86  96\n",
            "28  94  64\n",
            "29  63  87\n",
            "30  90  63\n",
            "32  73  61\n",
            "38  84  79\n",
            "39  89  94\n",
            "42  78  99\n",
            "43  67  98\n",
            "45  62  60\n",
            "47  83  70\n",
            "48  77  77\n",
            "51  92  90\n",
            "52  70  77\n",
            "55  88  87\n",
            "57  78  74\n",
            "61  73  63\n",
            "62  77  66\n",
            "64  62  80\n",
            "66  71  70\n",
            "68  98  63\n",
            "69  82  96\n",
            "70  83  65\n",
            "72  61  98\n",
            "73  89  82\n",
            "74  76  90\n",
            "75  79  94\n",
            "77  97  91\n",
            "79  95  93\n",
            "85  94  64\n",
            "86  92  64\n",
            "87  69  95\n",
            "89  63  69\n",
            "91  71  85\n",
            "92  89  66\n",
            "93  96  97\n",
            "95  63  99\n",
            "96  86  90\n",
            "97  96  90\n",
            "98  69  62\n",
            "99  91  84\n"
          ]
        }
      ]
    },
    {
      "cell_type": "code",
      "source": [
        "# 3. 국어와 수학이 90점 이상인 학생의 이름, 수학, 국어 점수\n",
        "\n",
        "filtered_stu3 = stu[(stu['국어'] >= 90) & (stu['수학'] >= 90)]\n",
        "result3 = filtered_stu3[['이름', '수학', '국어']]\n",
        "print(result3)"
      ],
      "metadata": {
        "colab": {
          "base_uri": "https://localhost:8080/"
        },
        "id": "KcMVUMMKWLpn",
        "outputId": "7a15a023-2e2a-41a0-d6ed-613d98fbce3c"
      },
      "execution_count": 14,
      "outputs": [
        {
          "output_type": "stream",
          "name": "stdout",
          "text": [
            "     이름  수학  국어\n",
            "10  이민은  98  94\n",
            "15  이명동  97  96\n",
            "46  정혜은  93  94\n",
            "80  이지동  97  98\n",
            "83  장혜은  99  94\n"
          ]
        }
      ]
    },
    {
      "cell_type": "code",
      "source": [
        "# 4. 모든 과목이 60점 미만인 학생의 번호, 이름, 생년월일\n",
        "\n",
        "filtered_stu4 = stu[(stu['국어'] < 60) & (stu['수학'] < 60) & (stu['영어'] < 60)]\n",
        "result4 = filtered_stu4[['번호', '이름', '생년월일']]\n",
        "print(result4)"
      ],
      "metadata": {
        "colab": {
          "base_uri": "https://localhost:8080/"
        },
        "id": "RAuRtJdvWLgh",
        "outputId": "5ff4147f-ec5c-483d-c491-0aa19a589710"
      },
      "execution_count": 15,
      "outputs": [
        {
          "output_type": "stream",
          "name": "stdout",
          "text": [
            "Empty DataFrame\n",
            "Columns: [번호, 이름, 생년월일]\n",
            "Index: []\n"
          ]
        }
      ]
    },
    {
      "cell_type": "code",
      "source": [
        "# 5. 대전 지역 학생들의 이름, 국어, 영어, 수학 점수\n",
        "\n",
        "daejeon_students = stu[stu['지역명'] == '대전']\n",
        "result5 = daejeon_students[['이름', '국어', '영어', '수학']]\n",
        "print(result5)"
      ],
      "metadata": {
        "id": "EJ8C5C1JC-kV",
        "colab": {
          "base_uri": "https://localhost:8080/"
        },
        "outputId": "dabba476-7ce3-42dd-9e20-1cfedacc0bc4"
      },
      "execution_count": 17,
      "outputs": [
        {
          "output_type": "stream",
          "name": "stdout",
          "text": [
            "     이름  국어  영어  수학\n",
            "0   이현진  68  77  81\n",
            "4   김혜수  83  76  67\n",
            "7   정민은  90  78  73\n",
            "11  박준진  74  80  89\n",
            "14  장명진  75  85  82\n",
            "26  장혜동  79  65  83\n",
            "29  박혜희  87  63  61\n",
            "35  정현희  76  74  95\n",
            "38  김준운  79  84  79\n",
            "40  김명은  87  88  99\n",
            "41  정준수  90  78  83\n",
            "52  정철진  77  70  73\n",
            "57  김명진  74  78  76\n",
            "60  김철연  72  70  97\n",
            "84  박준진  79  66  84\n",
            "85  김준희  64  94  76\n",
            "90  정철동  81  98  82\n",
            "92  박혜진  66  89  63\n",
            "96  장혜운  90  86  62\n",
            "97  박철동  90  96  60\n"
          ]
        }
      ]
    },
    {
      "cell_type": "markdown",
      "source": [],
      "metadata": {
        "id": "UzgtHCU3h10p"
      }
    },
    {
      "cell_type": "code",
      "source": [
        "# 아래 문제를 해결해주세요.\n",
        "\n",
        "# 1. 학생들의 총점, 평균 구하기\n",
        "subjects = ['국어', '영어', '수학']\n",
        "stu_scores = stu[subjects]\n",
        "\n",
        "stu['총점'] = stu_scores.sum(axis=1)\n",
        "stu['평균'] = stu_scores.mean(axis=1)\n",
        "\n",
        "result = stu[['번호', '이름', '총점', '평균']]\n",
        "print(result)"
      ],
      "metadata": {
        "id": "tHL-HbNWDIkQ",
        "colab": {
          "base_uri": "https://localhost:8080/"
        },
        "outputId": "95f04441-7f70-4099-8dbe-62de5bdd6a68"
      },
      "execution_count": 19,
      "outputs": [
        {
          "output_type": "stream",
          "name": "stdout",
          "text": [
            "     번호   이름   총점         평균\n",
            "0     1  이현진  226  75.333333\n",
            "1     2  장민동  269  89.666667\n",
            "2     3  강준은  212  70.666667\n",
            "3     4  강혜희  273  91.000000\n",
            "4     5  김혜수  226  75.333333\n",
            "..  ...  ...  ...        ...\n",
            "95   96  이민운  227  75.666667\n",
            "96   97  장혜운  238  79.333333\n",
            "97   98  박철동  246  82.000000\n",
            "98   99  강준동  200  66.666667\n",
            "99  100  이현운  248  82.666667\n",
            "\n",
            "[100 rows x 4 columns]\n"
          ]
        }
      ]
    },
    {
      "cell_type": "code",
      "source": [
        "# 2. 학생들의 평균이 높은 순으로 정렬. 만약 평균이 같다면 학번으로 오름차순\n",
        "\n",
        "subjects2 = ['국어', '영어', '수학']\n",
        "stu_scores2 = stu[subjects2]\n",
        "\n",
        "stu['평균'] = stu_scores2.mean(axis=1)\n",
        "\n",
        "sorted_stu = stu.sort_values(by=['평균', '번호'], ascending=[False, True])\n",
        "\n",
        "result22 = sorted_stu[['번호', '이름', '평균']]\n",
        "print(result22)"
      ],
      "metadata": {
        "colab": {
          "base_uri": "https://localhost:8080/"
        },
        "id": "XYpS-eZWXaxQ",
        "outputId": "ec5e5789-e789-44f2-eb09-a372592248f0"
      },
      "execution_count": 20,
      "outputs": [
        {
          "output_type": "stream",
          "name": "stdout",
          "text": [
            "    번호   이름         평균\n",
            "10  11  이민은  94.333333\n",
            "67  68  이혜운  92.333333\n",
            "81  82  정준동  92.000000\n",
            "40  41  김명은  91.333333\n",
            "56  57  정현연  91.333333\n",
            "..  ..  ...        ...\n",
            "32  33  김지동  68.666667\n",
            "66  67  정현운  68.000000\n",
            "98  99  강준동  66.666667\n",
            "45  46  정명동  65.000000\n",
            "24  25  장철운  62.333333\n",
            "\n",
            "[100 rows x 3 columns]\n"
          ]
        }
      ]
    },
    {
      "cell_type": "code",
      "source": [],
      "metadata": {
        "id": "QPvwxyBiX6hx"
      },
      "execution_count": null,
      "outputs": []
    }
  ]
}
